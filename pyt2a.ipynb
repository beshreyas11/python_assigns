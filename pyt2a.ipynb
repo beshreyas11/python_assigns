{
  "nbformat": 4,
  "nbformat_minor": 0,
  "metadata": {
    "colab": {
      "provenance": []
    },
    "kernelspec": {
      "name": "python3",
      "display_name": "Python 3"
    },
    "language_info": {
      "name": "python"
    }
  },
  "cells": [
    {
      "cell_type": "code",
      "execution_count": null,
      "metadata": {
        "id": "6La5_Ct141O6"
      },
      "outputs": [],
      "source": [
        "# write a program takes marks of 5 subjects and display its grades"
      ]
    },
    {
      "cell_type": "code",
      "source": [
        "sub1 = int(input('Enter the marks of subject 1 : '))\n",
        "sub2 = int(input('enter the marks of subject 2 : '))\n",
        "sub3 = int(input('Enter the marks of subject 3 : '))\n",
        "sub4 = int(input('Enter the marks of subject 4 : '))\n",
        "sub5 = int(input('Enter the marks of subject 5 : '))\n",
        "\n",
        "avg = (sub1 + sub2 + sub3 + sub4 +sub5)/5\n",
        "\n",
        "if(avg>90):\n",
        "  print(\"Grade A\")\n",
        "elif (avg>=80) and (avg<90):\n",
        "    print(\"Grade B\")\n",
        "elif (avg >= 70) and (avg<80):\n",
        "      print(\"Grade C\")\n",
        "elif (avg>=60) and (avg<70):\n",
        "        print(\"Grade D\")\n",
        "else:\n",
        "          print(\"fail\")"
      ],
      "metadata": {
        "id": "TmdZttC25NXw"
      },
      "execution_count": null,
      "outputs": []
    },
    {
      "cell_type": "code",
      "source": [
        "\n"
      ],
      "metadata": {
        "id": "7Ley9nGBDInT"
      },
      "execution_count": null,
      "outputs": []
    }
  ]
}