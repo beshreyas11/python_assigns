{
  "nbformat": 4,
  "nbformat_minor": 0,
  "metadata": {
    "colab": {
      "provenance": []
    },
    "kernelspec": {
      "name": "python3",
      "display_name": "Python 3"
    },
    "language_info": {
      "name": "python"
    }
  },
  "cells": [
    {
      "cell_type": "code",
      "execution_count": 1,
      "metadata": {
        "id": "NshzYJmZFx2q"
      },
      "outputs": [],
      "source": [
        "#write a program to check the largest number among the three numbers"
      ]
    },
    {
      "cell_type": "code",
      "source": [
        "num1 = int(input(\"Enter number 1 : \"))\n",
        "num2 = int(input(\"Enter number 2 : \"))\n",
        "num3 = int(input(\"Enter number 3 : \"))\n",
        "\n",
        "if (num1 >= num2) and (num1 >= num3):\n",
        "  largest = num1\n",
        "elif (num2 >= num1) and (num2 >= num3):\n",
        "  largest = num2\n",
        "else:\n",
        "  largest = num3\n",
        "\n",
        "print(\"the largest number is : \" ,largest)"
      ],
      "metadata": {
        "colab": {
          "base_uri": "https://localhost:8080/"
        },
        "id": "u51e1asVGHxD",
        "outputId": "c9291810-d90a-41f1-a502-c00a4458a58d"
      },
      "execution_count": 13,
      "outputs": [
        {
          "output_type": "stream",
          "name": "stdout",
          "text": [
            "Enter number 1 : 65\n",
            "Enter number 2 : 98\n",
            "Enter number 3 : 35\n",
            "the largest number is :  98\n"
          ]
        }
      ]
    },
    {
      "cell_type": "code",
      "source": [
        "# write a program to reverse a number"
      ],
      "metadata": {
        "id": "-r_ga9J2QnCC"
      },
      "execution_count": 6,
      "outputs": []
    },
    {
      "cell_type": "code",
      "source": [
        "num = int(input(\"enter any number: \"))\n",
        "revnum = 0\n",
        "\n",
        "while num != 0:\n",
        "  digit = num % 10\n",
        "  revnum = revnum * 10 + digit\n",
        "  num //= 10\n",
        "print(\" reversed number : \" + str(revnum))"
      ],
      "metadata": {
        "colab": {
          "base_uri": "https://localhost:8080/"
        },
        "id": "pT2AivWUWOuB",
        "outputId": "1ab7631b-fd52-41f4-f820-81886ad15cc3"
      },
      "execution_count": 10,
      "outputs": [
        {
          "output_type": "stream",
          "name": "stdout",
          "text": [
            "enter any number: 985\n",
            " reversed number : 589\n"
          ]
        }
      ]
    },
    {
      "cell_type": "code",
      "source": [
        "# write a program to print all even numbers between 1 to 100 using while loop"
      ],
      "metadata": {
        "id": "sctVRM-pe3mo"
      },
      "execution_count": 11,
      "outputs": []
    },
    {
      "cell_type": "code",
      "source": [
        "start = 1\n",
        "end = 100\n",
        "for num in range(start, end +1):\n",
        "  if num % 2 == 0:\n",
        "    print(num)"
      ],
      "metadata": {
        "colab": {
          "base_uri": "https://localhost:8080/"
        },
        "id": "bpikMPpCg0Af",
        "outputId": "ae953171-c267-4eb1-ad51-1b7ef5001eff"
      },
      "execution_count": 12,
      "outputs": [
        {
          "output_type": "stream",
          "name": "stdout",
          "text": [
            "2\n",
            "4\n",
            "6\n",
            "8\n",
            "10\n",
            "12\n",
            "14\n",
            "16\n",
            "18\n",
            "20\n",
            "22\n",
            "24\n",
            "26\n",
            "28\n",
            "30\n",
            "32\n",
            "34\n",
            "36\n",
            "38\n",
            "40\n",
            "42\n",
            "44\n",
            "46\n",
            "48\n",
            "50\n",
            "52\n",
            "54\n",
            "56\n",
            "58\n",
            "60\n",
            "62\n",
            "64\n",
            "66\n",
            "68\n",
            "70\n",
            "72\n",
            "74\n",
            "76\n",
            "78\n",
            "80\n",
            "82\n",
            "84\n",
            "86\n",
            "88\n",
            "90\n",
            "92\n",
            "94\n",
            "96\n",
            "98\n",
            "100\n"
          ]
        }
      ]
    },
    {
      "cell_type": "code",
      "source": [],
      "metadata": {
        "id": "NGwiGuOlhgel"
      },
      "execution_count": null,
      "outputs": []
    }
  ]
}